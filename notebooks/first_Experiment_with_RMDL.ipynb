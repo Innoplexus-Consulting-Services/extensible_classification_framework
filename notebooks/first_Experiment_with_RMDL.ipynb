{
 "cells": [
  {
   "cell_type": "markdown",
   "metadata": {},
   "source": [
    "### Running experimental version of RMDL"
   ]
  },
  {
   "cell_type": "code",
   "execution_count": 1,
   "metadata": {},
   "outputs": [
    {
     "name": "stdout",
     "output_type": "stream",
     "text": [
      "Collecting RMDL\n",
      "  Downloading https://files.pythonhosted.org/packages/b8/4c/f4f40cec03cc82c0f59edda88c163328a0f6347b87eb446e90cba58bc706/RMDL-1.0.6-py2.py3-none-any.whl (41kB)\n",
      "\u001b[K    100% |████████████████████████████████| 51kB 3.4MB/s ta 0:00:011\n",
      "\u001b[?25hCollecting matplotlib>=2.1.2 (from RMDL)\n",
      "  Downloading https://files.pythonhosted.org/packages/71/07/16d781df15be30df4acfd536c479268f1208b2dfbc91e9ca5d92c9caf673/matplotlib-3.0.2-cp36-cp36m-manylinux1_x86_64.whl (12.9MB)\n",
      "\u001b[K    100% |████████████████████████████████| 12.9MB 113kB/s eta 0:00:01\n",
      "\u001b[?25hRequirement already satisfied: scikit-learn>=0.19.0 in /data/sunil.patel/anaconda3/lib/python3.6/site-packages (from RMDL)\n",
      "Collecting pandas>=0.22.0 (from RMDL)\n",
      "  Downloading https://files.pythonhosted.org/packages/e6/de/a0d3defd8f338eaf53ef716e40ef6d6c277c35d50e09b586e170169cdf0d/pandas-0.24.1-cp36-cp36m-manylinux1_x86_64.whl (10.1MB)\n",
      "\u001b[K    100% |████████████████████████████████| 10.1MB 142kB/s eta 0:00:01\n",
      "\u001b[?25hRequirement already satisfied: nltk>=3.2.4 in /data/sunil.patel/anaconda3/lib/python3.6/site-packages (from RMDL)\n",
      "Requirement already satisfied: numpy>=1.12.1 in /data/sunil.patel/anaconda3/lib/python3.6/site-packages (from RMDL)\n",
      "Collecting keras>=2.0.9 (from RMDL)\n",
      "  Downloading https://files.pythonhosted.org/packages/5e/10/aa32dad071ce52b5502266b5c659451cfd6ffcbf14e6c8c4f16c0ff5aaab/Keras-2.2.4-py2.py3-none-any.whl (312kB)\n",
      "\u001b[K    100% |████████████████████████████████| 317kB 3.5MB/s eta 0:00:01\n",
      "\u001b[?25hRequirement already satisfied: scipy in /data/sunil.patel/anaconda3/lib/python3.6/site-packages (from RMDL)\n",
      "Collecting tensorflow (from RMDL)\n",
      "  Downloading https://files.pythonhosted.org/packages/22/cc/ca70b78087015d21c5f3f93694107f34ebccb3be9624385a911d4b52ecef/tensorflow-1.12.0-cp36-cp36m-manylinux1_x86_64.whl (83.1MB)\n",
      "\u001b[K    100% |████████████████████████████████| 83.1MB 17kB/s  eta 0:00:01\n",
      "\u001b[?25hRequirement already satisfied: python-dateutil>=2.1 in /data/sunil.patel/anaconda3/lib/python3.6/site-packages (from matplotlib>=2.1.2->RMDL)\n",
      "Requirement already satisfied: cycler>=0.10 in /data/sunil.patel/anaconda3/lib/python3.6/site-packages (from matplotlib>=2.1.2->RMDL)\n",
      "Requirement already satisfied: pyparsing!=2.0.4,!=2.1.2,!=2.1.6,>=2.0.1 in /data/sunil.patel/anaconda3/lib/python3.6/site-packages (from matplotlib>=2.1.2->RMDL)\n",
      "Collecting kiwisolver>=1.0.1 (from matplotlib>=2.1.2->RMDL)\n",
      "  Downloading https://files.pythonhosted.org/packages/69/a7/88719d132b18300b4369fbffa741841cfd36d1e637e1990f27929945b538/kiwisolver-1.0.1-cp36-cp36m-manylinux1_x86_64.whl (949kB)\n",
      "\u001b[K    100% |████████████████████████████████| 952kB 1.2MB/s ta 0:00:011\n",
      "\u001b[?25hRequirement already satisfied: pytz>=2011k in /data/sunil.patel/anaconda3/lib/python3.6/site-packages (from pandas>=0.22.0->RMDL)\n",
      "Requirement already satisfied: six in /data/sunil.patel/anaconda3/lib/python3.6/site-packages (from nltk>=3.2.4->RMDL)\n",
      "Requirement already satisfied: pyyaml in /data/sunil.patel/anaconda3/lib/python3.6/site-packages (from keras>=2.0.9->RMDL)\n",
      "Requirement already satisfied: h5py in /data/sunil.patel/anaconda3/lib/python3.6/site-packages (from keras>=2.0.9->RMDL)\n",
      "Collecting keras-applications>=1.0.6 (from keras>=2.0.9->RMDL)\n",
      "  Downloading https://files.pythonhosted.org/packages/90/85/64c82949765cfb246bbdaf5aca2d55f400f792655927a017710a78445def/Keras_Applications-1.0.7-py2.py3-none-any.whl (51kB)\n",
      "\u001b[K    100% |████████████████████████████████| 61kB 5.5MB/s eta 0:00:01\n",
      "\u001b[?25hCollecting keras-preprocessing>=1.0.5 (from keras>=2.0.9->RMDL)\n",
      "  Downloading https://files.pythonhosted.org/packages/c0/bf/0315ef6a9fd3fc2346e85b0ff1f5f83ca17073f2c31ac719ab2e4da0d4a3/Keras_Preprocessing-1.0.9-py2.py3-none-any.whl (59kB)\n",
      "\u001b[K    100% |████████████████████████████████| 61kB 4.7MB/s eta 0:00:01\n",
      "\u001b[?25hCollecting absl-py>=0.1.6 (from tensorflow->RMDL)\n",
      "  Downloading https://files.pythonhosted.org/packages/31/bc/ab68120d1d89ae23b694a55fe2aece2f91194313b71f9b05a80b32d3c24b/absl-py-0.7.0.tar.gz (96kB)\n",
      "\u001b[K    100% |████████████████████████████████| 102kB 7.6MB/s ta 0:00:01\n",
      "\u001b[?25hCollecting gast>=0.2.0 (from tensorflow->RMDL)\n",
      "  Downloading https://files.pythonhosted.org/packages/4e/35/11749bf99b2d4e3cceb4d55ca22590b0d7c2c62b9de38ac4a4a7f4687421/gast-0.2.2.tar.gz\n",
      "Requirement already satisfied: grpcio>=1.8.6 in /data/sunil.patel/anaconda3/lib/python3.6/site-packages (from tensorflow->RMDL)\n",
      "Collecting astor>=0.6.0 (from tensorflow->RMDL)\n",
      "  Downloading https://files.pythonhosted.org/packages/35/6b/11530768cac581a12952a2aad00e1526b89d242d0b9f59534ef6e6a1752f/astor-0.7.1-py2.py3-none-any.whl\n",
      "Collecting tensorboard<1.13.0,>=1.12.0 (from tensorflow->RMDL)\n",
      "  Downloading https://files.pythonhosted.org/packages/07/53/8d32ce9471c18f8d99028b7cef2e5b39ea8765bd7ef250ca05b490880971/tensorboard-1.12.2-py3-none-any.whl (3.0MB)\n",
      "\u001b[K    100% |████████████████████████████████| 3.1MB 452kB/s eta 0:00:01\n",
      "\u001b[?25hRequirement already satisfied: protobuf>=3.6.1 in /data/sunil.patel/anaconda3/lib/python3.6/site-packages (from tensorflow->RMDL)\n",
      "Collecting termcolor>=1.1.0 (from tensorflow->RMDL)\n",
      "  Downloading https://files.pythonhosted.org/packages/8a/48/a76be51647d0eb9f10e2a4511bf3ffb8cc1e6b14e9e4fab46173aa79f981/termcolor-1.1.0.tar.gz\n",
      "Requirement already satisfied: wheel>=0.26 in /data/sunil.patel/anaconda3/lib/python3.6/site-packages (from tensorflow->RMDL)\n",
      "Requirement already satisfied: setuptools in /data/sunil.patel/anaconda3/lib/python3.6/site-packages (from kiwisolver>=1.0.1->matplotlib>=2.1.2->RMDL)\n",
      "Requirement already satisfied: werkzeug>=0.11.10 in /data/sunil.patel/anaconda3/lib/python3.6/site-packages (from tensorboard<1.13.0,>=1.12.0->tensorflow->RMDL)\n",
      "Collecting markdown>=2.6.8 (from tensorboard<1.13.0,>=1.12.0->tensorflow->RMDL)\n",
      "  Downloading https://files.pythonhosted.org/packages/7a/6b/5600647404ba15545ec37d2f7f58844d690baf2f81f3a60b862e48f29287/Markdown-3.0.1-py2.py3-none-any.whl (89kB)\n",
      "\u001b[K    100% |████████████████████████████████| 92kB 5.3MB/s eta 0:00:01\n",
      "\u001b[?25hBuilding wheels for collected packages: absl-py, gast, termcolor\n",
      "  Running setup.py bdist_wheel for absl-py ... \u001b[?25ldone\n",
      "\u001b[?25h  Stored in directory: /home/sunil.patel/.cache/pip/wheels/90/db/f8/2c3101f72ef1ad434e4662853174126ce30201a3e163dcbeca\n",
      "  Running setup.py bdist_wheel for gast ... \u001b[?25ldone\n",
      "\u001b[?25h  Stored in directory: /home/sunil.patel/.cache/pip/wheels/5c/2e/7e/a1d4d4fcebe6c381f378ce7743a3ced3699feb89bcfbdadadd\n",
      "  Running setup.py bdist_wheel for termcolor ... \u001b[?25ldone\n",
      "\u001b[?25h  Stored in directory: /home/sunil.patel/.cache/pip/wheels/7c/06/54/bc84598ba1daf8f970247f550b175aaaee85f68b4b0c5ab2c6\n",
      "Successfully built absl-py gast termcolor\n",
      "Installing collected packages: kiwisolver, matplotlib, pandas, keras-applications, keras-preprocessing, keras, absl-py, gast, astor, markdown, tensorboard, termcolor, tensorflow, RMDL\n",
      "  Found existing installation: matplotlib 2.0.2\n",
      "    Uninstalling matplotlib-2.0.2:\n",
      "      Successfully uninstalled matplotlib-2.0.2\n",
      "  Found existing installation: pandas 0.20.3\n",
      "    Uninstalling pandas-0.20.3:\n",
      "      Successfully uninstalled pandas-0.20.3\n",
      "Successfully installed RMDL-1.0.6 absl-py-0.7.0 astor-0.7.1 gast-0.2.2 keras-2.2.4 keras-applications-1.0.7 keras-preprocessing-1.0.9 kiwisolver-1.0.1 markdown-3.0.1 matplotlib-3.0.2 pandas-0.24.1 tensorboard-1.12.2 tensorflow-1.12.0 termcolor-1.1.0\n",
      "\u001b[33mYou are using pip version 9.0.1, however version 19.0.2 is available.\n",
      "You should consider upgrading via the 'pip install --upgrade pip' command.\u001b[0m\n"
     ]
    }
   ],
   "source": [
    "!pip install RMDL"
   ]
  },
  {
   "cell_type": "code",
   "execution_count": 2,
   "metadata": {},
   "outputs": [
    {
     "name": "stderr",
     "output_type": "stream",
     "text": [
      "/data/sunil.patel/anaconda3/lib/python3.6/site-packages/h5py/__init__.py:34: FutureWarning: Conversion of the second argument of issubdtype from `float` to `np.floating` is deprecated. In future, it will be treated as `np.float64 == np.dtype(float).type`.\n",
      "  from ._conv import register_converters as _register_converters\n",
      "Using TensorFlow backend.\n"
     ]
    },
    {
     "name": "stdout",
     "output_type": "stream",
     "text": [
      "sys.version_info(major=3, minor=6, micro=2, releaselevel='final', serial=0)\n",
      "sys.version_info(major=3, minor=6, micro=2, releaselevel='final', serial=0)\n",
      "[nltk_data] Downloading package stopwords to\n",
      "[nltk_data]     /home/sunil.patel/nltk_data...\n",
      "[nltk_data]   Package stopwords is already up-to-date!\n"
     ]
    },
    {
     "name": "stderr",
     "output_type": "stream",
     "text": [
      "/data/sunil.patel/anaconda3/lib/python3.6/site-packages/matplotlib/font_manager.py:232: UserWarning: Matplotlib is building the font cache using fc-list. This may take a moment.\n",
      "  'Matplotlib is building the font cache using fc-list. '\n"
     ]
    }
   ],
   "source": [
    "import sys\n",
    "import os\n",
    "from RMDL import text_feature_extraction as txt\n",
    "from keras.datasets import imdb\n",
    "import numpy as np\n",
    "from RMDL import RMDL_Text as RMDL"
   ]
  },
  {
   "cell_type": "code",
   "execution_count": null,
   "metadata": {},
   "outputs": [
    {
     "name": "stdout",
     "output_type": "stream",
     "text": [
      "Load IMDB dataset....\n",
      "Downloading data from https://s3.amazonaws.com/text-datasets/imdb.npz\n",
      "17465344/17464789 [==============================] - 23s 1us/step\n",
      "25000\n",
      "[0 1 1 ... 0 0 0]\n",
      "Downloading data from https://s3.amazonaws.com/text-datasets/imdb_word_index.json\n",
      "1646592/1641221 [==============================] - 2s 1us/step\n",
      "(25000,)\n"
     ]
    }
   ],
   "source": [
    "print(\"Load IMDB dataset....\")\n",
    "(X_train, y_train), (X_test, y_test) = imdb.load_data(num_words=5)\n",
    "print(len(X_train))\n",
    "print(y_test)\n",
    "word_index = imdb.get_word_index()\n",
    "index_word = {v: k for k, v in word_index.items()}\n",
    "X_train = [txt.text_cleaner(' '.join(index_word.get(w) for w in x)) for x in X_train]\n",
    "X_test = [txt.text_cleaner(' '.join(index_word.get(w) for w in x)) for x in X_test]\n",
    "X_train = np.array(X_train)\n",
    "X_train = np.array(X_train).ravel()\n",
    "print(X_train.shape)\n",
    "X_test = np.array(X_test)\n",
    "X_test = np.array(X_test).ravel()"
   ]
  },
  {
   "cell_type": "code",
   "execution_count": null,
   "metadata": {},
   "outputs": [
    {
     "name": "stdout",
     "output_type": "stream",
     "text": [
      ".\\Glove/glove.6B.zip\n"
     ]
    }
   ],
   "source": [
    "batch_size = 100\n",
    "sparse_categorical = 0\n",
    "n_epochs = [100, 100, 100]  ## DNN--RNN-CNN\n",
    "Random_Deep = [3, 3, 3]  ## DNN--RNN-CNN\n",
    "\n",
    "RMDL.Text_Classification(X_train, y_train, X_test, y_test,\n",
    "                     batch_size=batch_size,\n",
    "                     sparse_categorical=sparse_categorical,\n",
    "                     random_deep=Random_Deep,\n",
    "                     epochs=n_epochs)"
   ]
  },
  {
   "cell_type": "code",
   "execution_count": null,
   "metadata": {
    "collapsed": true
   },
   "outputs": [],
   "source": []
  }
 ],
 "metadata": {
  "kernelspec": {
   "display_name": "Python 3",
   "language": "python",
   "name": "python3"
  },
  "language_info": {
   "codemirror_mode": {
    "name": "ipython",
    "version": 3
   },
   "file_extension": ".py",
   "mimetype": "text/x-python",
   "name": "python",
   "nbconvert_exporter": "python",
   "pygments_lexer": "ipython3",
   "version": "3.6.2"
  }
 },
 "nbformat": 4,
 "nbformat_minor": 2
}
