{
 "cells": [
  {
   "cell_type": "code",
   "execution_count": 1,
   "metadata": {
    "collapsed": true
   },
   "outputs": [],
   "source": [
    "import sys\n",
    "sys.path.append('/data/extensibleFramework/')\n"
   ]
  },
  {
   "cell_type": "code",
   "execution_count": 2,
   "metadata": {
    "collapsed": true
   },
   "outputs": [],
   "source": [
    "from extensibleFramework.src.models import convolution_neural_network\n",
    "from extensibleFramework.src.models import recurrent_nn_with_attention\n",
    "from extensibleFramework.src.models import feed_forward_network\n",
    "from extensibleFramework.src.models import extra_layers\n",
    "from extensibleFramework.src.utils import saving_and_loading\n",
    "from extensibleFramework.src.utils import grid_search\n",
    "from extensibleFramework.src.models import config\n",
    "import torch\n",
    "import numpy as np\n",
    "import json"
   ]
  },
  {
   "cell_type": "code",
   "execution_count": 3,
   "metadata": {
    "collapsed": true
   },
   "outputs": [],
   "source": [
    "batch_size = 32"
   ]
  },
  {
   "cell_type": "code",
   "execution_count": 4,
   "metadata": {
    "collapsed": true
   },
   "outputs": [],
   "source": [
    "class parameters:\n",
    "    def __init__(self):\n",
    "        self.cnn_rnn_vocab_size = 123\n",
    "        self.cnn_rnn_embed_dim = 100\n",
    "        self.cnn_rnn_class_num = [50,100,200]\n",
    "        self.cnn_out_channel_num = [8,12]\n",
    "        self.cnn_kernel_sizes =  [3,4,5]\n",
    "        self.rnn_n_layers = [1,2,3]\n",
    "        self.rnn_hidden_size =  [128, 256]\n",
    "        self.use_pretrained_weights = True\n",
    "        self.cnn_rnn_weights =  torch.Tensor(np.random.randn(2345,100))\n",
    "        self.cnn_rnn_weight_is_trainable =   False\n",
    "        self.dropout = [0.2, 0.5]\n",
    "        self.batch_size = batch_size\n",
    "        self.merge_mode = \"CONCAT\"\n",
    "        self.ffn_activation =  \"Relu\"\n",
    "        self.ffn_final_output_classes =  2\n",
    "        self.ffn_perceptron_per_layer = [[50, 25], [100,50, 25],  [200,100,50, 25]]\n",
    "        self.ffn_layer_wise_dropout = 0.2\n",
    "        self.learning_rate =  [0.1,0.2]\n",
    "        self.momentum = [0.5,0.9]\n",
    "        self.device = 'device'\n",
    "    \n"
   ]
  },
  {
   "cell_type": "code",
   "execution_count": 5,
   "metadata": {},
   "outputs": [
    {
     "name": "stdout",
     "output_type": "stream",
     "text": [
      "{\"cnn_rnn_vocab_size\": 123, \"cnn_rnn_embed_dim\": 100, \"cnn_rnn_class_num\": 50, \"cnn_out_channel_num\": 8, \"cnn_kernel_sizes\": [3, 4, 5], \"rnn_n_layers\": 3, \"rnn_hidden_size\": 256, \"use_pretrained_weights\": true, \"cnn_rnn_weights\": {}, \"cnn_rnn_weight_is_trainable\": false, \"dropout\": 0.5, \"batch_size\": 32, \"merge_mode\": \"CONCAT\", \"ffn_activation\": \"Relu\", \"ffn_final_output_classes\": 2, \"ffn_perceptron_per_layer\": [100, 50, 25], \"ffn_layer_wise_dropout\": [0.2, 0.2, 0.2], \"learning_rate\": [0.2], \"momentum\": 0.9, \"device\": \"device\", \"ffn_num_layer\": 3}\n",
      ">> {\"cnn_rnn_vocab_size\": 123, \"cnn_rnn_embed_dim\": 100, \"cnn_rnn_class_num\": 50, \"cnn_out_channel_num\": 8, \"cnn_kernel_sizes\": [3, 4, 5], \"rnn_n_layers\": 3, \"rnn_hidden_size\": 256, \"use_pretrained_weights\": true, \"cnn_rnn_weights\": {}, \"cnn_rnn_weight_is_trainable\": false, \"dropout\": 0.5, \"batch_size\": 32, \"merge_mode\": \"CONCAT\", \"ffn_input_size\": 100, \"ffn_activation\": \"Relu\", \"ffn_final_output_classes\": 2, \"ffn_num_layer\": 3, \"ffn_perceptron_per_layer\": [100, 50, 25], \"ffn_layer_wise_dropout\": [0.2, 0.2, 0.2], \"device\": \"device\"}\n"
     ]
    }
   ],
   "source": [
    "\n",
    "SP = grid_search.searchParameters(parameters)\n",
    "for parma_set in SP.random_search(1):\n",
    "    print(json.dumps(parma_set, default=lambda x: x.__dict__))\n",
    "    configuration = config.Config(parma_set)\n",
    "    print(\">>\",json.dumps(configuration, default=lambda x: x.__dict__))\n",
    "\n"
   ]
  },
  {
   "cell_type": "code",
   "execution_count": null,
   "metadata": {
    "collapsed": true
   },
   "outputs": [],
   "source": []
  },
  {
   "cell_type": "code",
   "execution_count": null,
   "metadata": {
    "collapsed": true
   },
   "outputs": [],
   "source": []
  }
 ],
 "metadata": {
  "kernelspec": {
   "display_name": "Python 3",
   "language": "python",
   "name": "python3"
  },
  "language_info": {
   "codemirror_mode": {
    "name": "ipython",
    "version": 3
   },
   "file_extension": ".py",
   "mimetype": "text/x-python",
   "name": "python",
   "nbconvert_exporter": "python",
   "pygments_lexer": "ipython3",
   "version": "3.6.8"
  }
 },
 "nbformat": 4,
 "nbformat_minor": 2
}
