{
 "cells": [
  {
   "cell_type": "markdown",
   "metadata": {},
   "source": [
    "### Change Log\n",
    "---\n",
    "Integrating custom vectorizer "
   ]
  },
  {
   "cell_type": "code",
   "execution_count": 1,
   "metadata": {
    "collapsed": true
   },
   "outputs": [],
   "source": [
    "import sys\n",
    "sys.path.append('/data/extensibleFramework/')"
   ]
  },
  {
   "cell_type": "code",
   "execution_count": 2,
   "metadata": {},
   "outputs": [
    {
     "name": "stdout",
     "output_type": "stream",
     "text": [
      "Loading Model\n",
      "Loaded Model Successfully\n"
     ]
    }
   ],
   "source": [
    "from torchtext import vocab\n",
    "from torchtext import data\n",
    "from extensibleFramework.src.utils import custom_vectorizer\n",
    "CV = custom_vectorizer.Vectorizer('/data/extensibleFramework/extensibleFramework/embedidngs/fastText.model')"
   ]
  },
  {
   "cell_type": "code",
   "execution_count": 3,
   "metadata": {
    "collapsed": true
   },
   "outputs": [],
   "source": [
    "def tokenize(sentiments):\n",
    "    return sentiments.lower().split(\" \")\n",
    "def to_categorical(x):\n",
    "    x = int(x)\n",
    "    if x == 1:\n",
    "        return [0,1]\n",
    "    if x == 0:\n",
    "        return [1,0]\n",
    "    \n"
   ]
  },
  {
   "cell_type": "code",
   "execution_count": 4,
   "metadata": {
    "collapsed": true
   },
   "outputs": [],
   "source": [
    "REVIEW = data.Field(sequential=True , tokenize=tokenize, use_vocab = True, lower=True,batch_first=True)\n",
    "LABEL = data.Field(is_target=True,use_vocab = False, sequential=False, preprocessing = to_categorical)\n",
    "fields = {'review': ('review', REVIEW), 'label': ('label', LABEL)}\n",
    "train_data , test_data = data.TabularDataset.splits(\n",
    "                            path = '',\n",
    "                            train = '/data/extensibleFramework/extensibleFramework/data/processed/train.json',\n",
    "                            test = '/data/extensibleFramework/extensibleFramework//data/processed/test.json',\n",
    "                            format = 'json',\n",
    "                            fields = fields)\n"
   ]
  },
  {
   "cell_type": "code",
   "execution_count": 5,
   "metadata": {
    "collapsed": true
   },
   "outputs": [],
   "source": [
    "REVIEW.build_vocab(train_data, test_data, max_size=400000)"
   ]
  },
  {
   "cell_type": "code",
   "execution_count": 6,
   "metadata": {},
   "outputs": [
    {
     "name": "stderr",
     "output_type": "stream",
     "text": [
      "/data/extensibleFramework/extensibleFramework/src/utils/custom_vectorizer.py:17: UserWarning: ALREADY EXSTS : /data/extensibleFramework/extensibleFramework/embedidngs/Custom_vectors.txt   make sure you dont over write previous vectors\n",
      "  warnings.warn(\"ALREADY EXSTS : \"+ destination_file +\"   make sure you dont over write previous vectors\")\n"
     ]
    },
    {
     "name": "stdout",
     "output_type": "stream",
     "text": [
      "Go ahead and overwrite (y/n)y\n",
      "Vectos returned to file :  /data/extensibleFramework/extensibleFramework/embedidngs/Custom_vectors.txt\n",
      "Total errors :  19\n",
      "File written successfuly :  /data/extensibleFramework/extensibleFramework/embedidngs/Custom_vectors.txt\n"
     ]
    }
   ],
   "source": [
    "CV.prepare_vectors(REVIEW.vocab.itos,\"/data/extensibleFramework/extensibleFramework/embedidngs/Custom_vectors.txt\")"
   ]
  },
  {
   "cell_type": "code",
   "execution_count": 8,
   "metadata": {},
   "outputs": [
    {
     "name": "stderr",
     "output_type": "stream",
     "text": [
      " 99%|█████████▉| 115828/116657 [00:07<00:00, 16317.10it/s]\n"
     ]
    }
   ],
   "source": [
    "vec = vocab.Vectors(name = \"../embedidngs/Custom_vectors.txt\",cache = \"./\")"
   ]
  },
  {
   "cell_type": "code",
   "execution_count": 9,
   "metadata": {
    "collapsed": true
   },
   "outputs": [],
   "source": [
    "REVIEW.build_vocab(train_data, test_data, max_size=400000, vectors=vec)"
   ]
  },
  {
   "cell_type": "code",
   "execution_count": null,
   "metadata": {
    "collapsed": true
   },
   "outputs": [],
   "source": []
  }
 ],
 "metadata": {
  "kernelspec": {
   "display_name": "Python 3",
   "language": "python",
   "name": "python3"
  },
  "language_info": {
   "codemirror_mode": {
    "name": "ipython",
    "version": 3
   },
   "file_extension": ".py",
   "mimetype": "text/x-python",
   "name": "python",
   "nbconvert_exporter": "python",
   "pygments_lexer": "ipython3",
   "version": "3.6.8"
  }
 },
 "nbformat": 4,
 "nbformat_minor": 2
}
